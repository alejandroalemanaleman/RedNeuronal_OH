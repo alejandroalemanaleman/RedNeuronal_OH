{
 "cells": [
  {
   "cell_type": "code",
   "execution_count": 59,
   "id": "initial_id",
   "metadata": {
    "collapsed": true,
    "ExecuteTime": {
     "end_time": "2024-10-31T11:39:22.103761900Z",
     "start_time": "2024-10-31T11:39:21.987119400Z"
    }
   },
   "outputs": [],
   "source": [
    "import numpy as np\n",
    "from sklearn.datasets import load_iris\n",
    "from sklearn.model_selection import train_test_split\n",
    "from sklearn.preprocessing import OneHotEncoder\n",
    "import matplotlib.pyplot as plt"
   ]
  },
  {
   "cell_type": "markdown",
   "source": [
    "# Inicialización de parametros"
   ],
   "metadata": {
    "collapsed": false
   },
   "id": "a88d83a3509be9ab"
  },
  {
   "cell_type": "code",
   "execution_count": 60,
   "outputs": [],
   "source": [
    "def random_initialization(layers_dims):\n",
    "    parameters = {}\n",
    "    L = len(layers_dims)\n",
    "\n",
    "    for l in range(1, L):\n",
    "        parameters['W' + str(l)] = np.random.randn(layers_dims[l-1], layers_dims[l]) * 0.01\n",
    "        parameters['b' + str(l)] = np.zeros((1, layers_dims[l]))\n",
    "\n",
    "    return parameters"
   ],
   "metadata": {
    "collapsed": false,
    "ExecuteTime": {
     "end_time": "2024-10-31T11:39:22.211952400Z",
     "start_time": "2024-10-31T11:39:22.016918900Z"
    }
   },
   "id": "d271b80b96c4848f"
  },
  {
   "cell_type": "markdown",
   "source": [
    "# Funciones de activación"
   ],
   "metadata": {
    "collapsed": false
   },
   "id": "15a0cfe1f17a3c90"
  },
  {
   "cell_type": "code",
   "execution_count": 61,
   "outputs": [],
   "source": [
    "def relu(x):\n",
    "    return np.maximum(0, x)"
   ],
   "metadata": {
    "collapsed": false,
    "ExecuteTime": {
     "end_time": "2024-10-31T11:39:22.217046400Z",
     "start_time": "2024-10-31T11:39:22.026915500Z"
    }
   },
   "id": "ec7b05eadb5f3b45"
  },
  {
   "cell_type": "code",
   "execution_count": 62,
   "outputs": [],
   "source": [
    "def relu_derivative(x):\n",
    "  return np.where(x > 0, 1, 0)"
   ],
   "metadata": {
    "collapsed": false,
    "ExecuteTime": {
     "end_time": "2024-10-31T11:39:22.247246600Z",
     "start_time": "2024-10-31T11:39:22.036936900Z"
    }
   },
   "id": "9c207ab549455c91"
  },
  {
   "cell_type": "code",
   "execution_count": 63,
   "outputs": [],
   "source": [
    "def softmax(z):\n",
    "    exp_z = np.exp(z - np.max(z, axis=1, keepdims=True))  \n",
    "    return exp_z / np.sum(exp_z, axis=1, keepdims=True)"
   ],
   "metadata": {
    "collapsed": false,
    "ExecuteTime": {
     "end_time": "2024-10-31T11:39:22.247246600Z",
     "start_time": "2024-10-31T11:39:22.057186500Z"
    }
   },
   "id": "7fadbd24d380d8e8"
  },
  {
   "cell_type": "markdown",
   "source": [
    "# Forward propagation"
   ],
   "metadata": {
    "collapsed": false
   },
   "id": "8fca2a5ce5a19164"
  },
  {
   "cell_type": "code",
   "execution_count": 64,
   "outputs": [],
   "source": [
    "def forward_propagation(X, parameters):\n",
    "    W1 = parameters['W1']\n",
    "    b1 = parameters['b1']\n",
    "    W2 = parameters['W2']\n",
    "    b2 = parameters['b2']\n",
    "    W3 = parameters['W3']\n",
    "    b3 = parameters['b3']\n",
    "\n",
    "    # Layer 1: Linear -> ReLU\n",
    "    z1 = np.dot(X, W1) + b1\n",
    "    a1 = relu(z1)\n",
    "\n",
    "    # Layer 2: Linear -> ReLU\n",
    "    z2 = np.dot(a1, W2) + b2\n",
    "    a2 = relu(z2)\n",
    "\n",
    "    # Layer 3: Linear -> Softmax\n",
    "    z3 = np.dot(a2, W3) + b3\n",
    "    a3 = softmax(z3)\n",
    "\n",
    "    cache = (z1, a1, W1, b1, z2, a2, W2, b2, z3, a3, W3, b3)\n",
    "    return a3, cache"
   ],
   "metadata": {
    "collapsed": false,
    "ExecuteTime": {
     "end_time": "2024-10-31T11:39:22.307154900Z",
     "start_time": "2024-10-31T11:39:22.072202Z"
    }
   },
   "id": "400b2fbe1802296b"
  },
  {
   "cell_type": "markdown",
   "source": [
    "# Backward Propagation"
   ],
   "metadata": {
    "collapsed": false
   },
   "id": "9667a83a2503bf12"
  },
  {
   "cell_type": "code",
   "execution_count": 65,
   "outputs": [],
   "source": [
    "def backward_propagation(X, y, cache):\n",
    "\n",
    "    (z1, a1, W1, b1, z2, a2, W2, b2, z3, a3, W3, b3) = cache\n",
    "    m = X.shape[0]\n",
    "\n",
    "    dz3 = a3 - y\n",
    "    dW3 = np.dot(a2.T, dz3) / m\n",
    "    db3 = np.sum(dz3, axis=0, keepdims=True) / m\n",
    "\n",
    "    # Compute gradients for the second hidden layer\n",
    "    da2 = np.dot(dz3, W3.T)\n",
    "    dz2 = da2 * relu_derivative(a2)  # Applying the ReLU derivative\n",
    "    dW2 = np.dot(a1.T, dz2) / m\n",
    "    db2 = np.sum(dz2, axis=0, keepdims=True) / m\n",
    "\n",
    "    # Compute gradients for the first hidden layer\n",
    "    da1 = np.dot(dz2, W2.T)\n",
    "    dz1 = da1 * relu_derivative(a1)  # Applying the ReLU derivative\n",
    "    dW1 = np.dot(X.T, dz1) / m\n",
    "    db1 = np.sum(dz1, axis=0, keepdims=True) / m\n",
    "\n",
    "    gradients = {'dz1': dz1, 'dA1': da1, 'dW1': dW1, 'db1': db1, 'dz2': dz2, 'dA2': da2, 'dW2': dW2, 'db2': db2, 'dz3': dz3, 'dW3': dW3, 'db3': db3}\n",
    "\n",
    "    return gradients"
   ],
   "metadata": {
    "collapsed": false,
    "ExecuteTime": {
     "end_time": "2024-10-31T11:39:22.317184900Z",
     "start_time": "2024-10-31T11:39:22.086916600Z"
    }
   },
   "id": "c70e0e49b0cf9d86"
  },
  {
   "cell_type": "markdown",
   "source": [
    "# Función de costo"
   ],
   "metadata": {
    "collapsed": false
   },
   "id": "7c095a576cb2a8d1"
  },
  {
   "cell_type": "code",
   "execution_count": 66,
   "outputs": [],
   "source": [
    "def compute_cost(a3, y_true):\n",
    "    \n",
    "    m = y_true.shape[0]  \n",
    "\n",
    "    # Compute cross-entropy loss\n",
    "    cost = -np.sum(y_true * np.log(a3 + 1e-8)) / m  \n",
    "\n",
    "    return cost"
   ],
   "metadata": {
    "collapsed": false,
    "ExecuteTime": {
     "end_time": "2024-10-31T11:39:22.317184900Z",
     "start_time": "2024-10-31T11:39:22.097107Z"
    }
   },
   "id": "3269cbca87aefa9"
  },
  {
   "cell_type": "markdown",
   "source": [
    "# Optimizador "
   ],
   "metadata": {
    "collapsed": false
   },
   "id": "12933a7ff5910358"
  },
  {
   "cell_type": "code",
   "execution_count": 67,
   "outputs": [],
   "source": [
    "class AdamOptimizer():\n",
    "    def __init__(self, parameters):\n",
    "        self.v = {}\n",
    "        self.s = {}\n",
    "        L = len(parameters) // 2\n",
    "\n",
    "        for l in range(L):\n",
    "            self.v[\"dW\" + str(l + 1)] = np.zeros_like(parameters[\"W\" + str(l + 1)])\n",
    "            self.v[\"db\" + str(l + 1)] = np.zeros_like(parameters[\"b\" + str(l + 1)])\n",
    "\n",
    "            self.s[\"dW\" + str(l+1)] = np.zeros_like(parameters[\"W\" + str(l + 1)])\n",
    "            self.s[\"db\" + str(l+1)] = np.zeros_like(parameters[\"b\" + str(l + 1)])\n",
    "\n",
    "    def update(self, parameters, grads, t, learning_rate=0.01, beta1=0.9, beta2=0.999, epsilon=1e-8):\n",
    "        L = len(parameters) // 2                 # number of layers in the neural networks\n",
    "        v_corrected = {}                         # Initializing first moment estimate, python dictionary\n",
    "        s_corrected = {}                         # Initializing second moment estimate, python dictionary\n",
    "\n",
    "        # Perform Adam update on all parameters\n",
    "        for l in range(L):\n",
    "            # Moving average of the gradients. Inputs: \"v, grads, beta1\". Output: \"v\".\n",
    "            self.v[\"dW\" + str(l + 1)] = beta1 * self.v[\"dW\" + str(l + 1)] + (1 - beta1) * grads['dW' + str(l + 1)]\n",
    "            self.v[\"db\" + str(l + 1)] = beta1 * self.v[\"db\" + str(l + 1)] + (1 - beta1) * grads['db' + str(l + 1)]\n",
    "\n",
    "            # Compute bias-corrected first moment estimate. Inputs: \"v, beta1, t\". Output: \"v_corrected\".\n",
    "            v_corrected[\"dW\" + str(l + 1)] = self.v[\"dW\" + str(l + 1)] / (1 - np.power(beta1, t))\n",
    "            v_corrected[\"db\" + str(l + 1)] = self.v[\"db\" + str(l + 1)] / (1 - np.power(beta1, t))\n",
    "\n",
    "            # Moving average of the squared gradients. Inputs: \"s, grads, beta2\". Output: \"s\".\n",
    "            self.s[\"dW\" + str(l + 1)] = beta2 * self.s[\"dW\" + str(l + 1)] + (1 - beta2) * np.power(grads['dW' + str(l + 1)], 2)\n",
    "            self.s[\"db\" + str(l + 1)] = beta2 * self.s[\"db\" + str(l + 1)] + (1 - beta2) * np.power(grads['db' + str(l + 1)], 2)\n",
    "\n",
    "            # Compute bias-corrected second raw moment estimate. Inputs: \"s, beta2, t\". Output: \"s_corrected\".\n",
    "            s_corrected[\"dW\" + str(l + 1)] = self.s[\"dW\" + str(l + 1)] / (1 - np.power(beta2, t))\n",
    "            s_corrected[\"db\" + str(l + 1)] = self.s[\"db\" + str(l + 1)] / (1 - np.power(beta2, t))\n",
    "\n",
    "            # Update parameters. Inputs: \"parameters, learning_rate, v_corrected, s_corrected, epsilon\". Output: \"parameters\".\n",
    "            parameters[\"W\" + str(l + 1)] = parameters[\"W\" + str(l + 1)] - learning_rate * v_corrected[\"dW\" + str(l + 1)] / np.sqrt(self.s[\"dW\" + str(l + 1)] + epsilon)\n",
    "            parameters[\"b\" + str(l + 1)] = parameters[\"b\" + str(l + 1)] - learning_rate * v_corrected[\"db\" + str(l + 1)] / np.sqrt(self.s[\"db\" + str(l + 1)] + epsilon)\n",
    "\n",
    "        return parameters"
   ],
   "metadata": {
    "collapsed": false,
    "ExecuteTime": {
     "end_time": "2024-10-31T11:39:22.317184900Z",
     "start_time": "2024-10-31T11:39:22.131889500Z"
    }
   },
   "id": "6db564e222691939"
  },
  {
   "cell_type": "markdown",
   "source": [
    "# Modelo"
   ],
   "metadata": {
    "collapsed": false
   },
   "id": "df1bd8571c6d56b1"
  },
  {
   "cell_type": "code",
   "execution_count": 80,
   "outputs": [],
   "source": [
    "def model(X, Y, layers_dims, learning_rate=0.01, num_epochs=10000, print_cost=True):\n",
    "\n",
    "    L = len(layers_dims)             \n",
    "    costs = []                                                                     \n",
    "    t = 0\n",
    "    # Initialize parameters\n",
    "    parameters = random_initialization(layers_dims)\n",
    "    optimizer=AdamOptimizer(parameters)\n",
    "\n",
    "\n",
    "    # Optimization loop\n",
    "    for i in range(num_epochs):\n",
    "\n",
    "        # Forward propagation\n",
    "        a3, cache = forward_propagation(X, parameters)\n",
    "\n",
    "        # Compute cost\n",
    "        cost = compute_cost(a3, Y)\n",
    "\n",
    "        # Backward propagation\n",
    "        grads = backward_propagation(X, Y, cache)\n",
    "        \n",
    "        \n",
    "        t+=1\n",
    "        parameters=optimizer.update(parameters,grads,t,learning_rate)\n",
    "       \n",
    "        if print_cost and i % 1000 == 0:\n",
    "            print(\"Cost after epoch %i: %f\" % (i, cost))\n",
    "        if print_cost and i % 100 == 0:\n",
    "            costs.append(cost)\n",
    "        \n",
    "    plt.plot(costs)\n",
    "    plt.ylabel('cost')\n",
    "    plt.xlabel('epochs (per 100)')\n",
    "    plt.title(\"Learning rate = \" + str(learning_rate))\n",
    "    plt.show()\n",
    "    \n",
    "    return parameters"
   ],
   "metadata": {
    "collapsed": false,
    "ExecuteTime": {
     "end_time": "2024-10-31T11:40:57.874938200Z",
     "start_time": "2024-10-31T11:40:57.840063300Z"
    }
   },
   "id": "1b20c9703f0b5316"
  },
  {
   "cell_type": "markdown",
   "source": [
    "# Predicción"
   ],
   "metadata": {
    "collapsed": false
   },
   "id": "64e6efb94c14dcf3"
  },
  {
   "cell_type": "code",
   "execution_count": 74,
   "outputs": [],
   "source": [
    "def predict(X, parameters):\n",
    "    \"\"\"\n",
    "    Generate predictions for input data X using the trained parameters.\n",
    "\n",
    "    X: input data (shape: (number of samples, number of features))\n",
    "    parameters: dictionary containing weights and biases of the network\n",
    "\n",
    "    Returns:\n",
    "    predictions: predicted class labels (shape: (number of samples,))\n",
    "    \"\"\"\n",
    "    # Perform forward propagation\n",
    "    a3, _ = forward_propagation(X, parameters)\n",
    "\n",
    "\n",
    "    # Convert probabilities to class labels\n",
    "    predictions = np.argmax(a3, axis=1)  # Select class with highest probability\n",
    "\n",
    "    return predictions"
   ],
   "metadata": {
    "collapsed": false,
    "ExecuteTime": {
     "end_time": "2024-10-31T11:39:32.347224800Z",
     "start_time": "2024-10-31T11:39:32.309451400Z"
    }
   },
   "id": "18b3f1b047507762"
  },
  {
   "cell_type": "markdown",
   "source": [],
   "metadata": {
    "collapsed": false
   },
   "id": "1082438f534333eb"
  },
  {
   "cell_type": "code",
   "execution_count": 81,
   "outputs": [
    {
     "name": "stdout",
     "output_type": "stream",
     "text": [
      "Cost after epoch 0: 1.098605\n",
      "Cost after epoch 1000: 0.001407\n",
      "Cost after epoch 2000: 0.000248\n",
      "Cost after epoch 3000: 0.000084\n",
      "Cost after epoch 4000: 0.000036\n",
      "Cost after epoch 5000: 0.000017\n",
      "Cost after epoch 6000: 0.000009\n",
      "Cost after epoch 7000: 0.000005\n",
      "Cost after epoch 8000: 0.000003\n",
      "Cost after epoch 9000: 0.000002\n"
     ]
    },
    {
     "data": {
      "text/plain": "<Figure size 640x480 with 1 Axes>",
      "image/png": "[encoded data removed]"
     },
     "metadata": {},
     "output_type": "display_data"
    }
   ],
   "source": [
    "iris = load_iris()\n",
    "X = iris.data  # Keep X as (150, 4)\n",
    "y = iris.target.reshape(-1, 1)\n",
    "\n",
    "# One-hot encode y\n",
    "encoder = OneHotEncoder(sparse_output=False)\n",
    "y_onehot = encoder.fit_transform(y)  # Now y_onehot has shape (150, 3)\n",
    "\n",
    "#print(y_onehot)\n",
    "\n",
    "# Split into train and test sets\n",
    "X_train, X_test, y_train, y_test = train_test_split(X, y_onehot, test_size=0.3, random_state=156477 , shuffle=True)\n",
    "\n",
    "layers_dims = [X.shape[1], 10, 8, 3]\n",
    "\n",
    "parameters = model(X_train, y_train, layers_dims)"
   ],
   "metadata": {
    "collapsed": false,
    "ExecuteTime": {
     "end_time": "2024-10-31T11:41:04.966550800Z",
     "start_time": "2024-10-31T11:41:02.037176500Z"
    }
   },
   "id": "5852f36ac3acac25"
  },
  {
   "cell_type": "code",
   "execution_count": 79,
   "outputs": [
    {
     "data": {
      "text/plain": "array([2, 0, 2, 0, 0, 0, 2, 0, 0, 1, 0, 2, 2, 2, 2, 2, 2, 0, 2, 0, 2, 2,\n       2, 1, 1, 2, 0, 2, 0, 2, 0, 1, 0, 0, 2, 2, 1, 0, 0, 0, 1, 2, 0, 2,\n       2])"
     },
     "execution_count": 79,
     "metadata": {},
     "output_type": "execute_result"
    }
   ],
   "source": [
    "predictions = predict(X_test, parameters)\n",
    "predictions"
   ],
   "metadata": {
    "collapsed": false,
    "ExecuteTime": {
     "end_time": "2024-10-31T11:39:49.127065400Z",
     "start_time": "2024-10-31T11:39:49.105982100Z"
    }
   },
   "id": "d67a75ab592a8f75"
  },
  {
   "cell_type": "code",
   "execution_count": 72,
   "outputs": [
    {
     "data": {
      "text/plain": "<Figure size 800x600 with 1 Axes>",
      "image/png": "[encoded data removed]"
     },
     "metadata": {},
     "output_type": "display_data"
    }
   ],
   "source": [
    "x_feature = iris.data[:, 0]  # Sepal length\n",
    "y_feature = iris.data[:, 2]  # Petal length\n",
    "\n",
    "# Plot\n",
    "plt.figure(figsize=(8, 6))\n",
    "plt.scatter(x_feature[iris.target == 0], y_feature[iris.target == 0], color='red', label='Setosa')\n",
    "plt.scatter(x_feature[iris.target == 1], y_feature[iris.target == 1], color='blue', label='Versicolor')\n",
    "plt.scatter(x_feature[iris.target == 2], y_feature[iris.target == 2], color='green', label='Virginica')\n",
    "plt.xlabel('Sepal length (cm)')\n",
    "plt.ylabel('Petal length (cm)')\n",
    "plt.legend()\n",
    "plt.title(\"Iris Dataset: Sepal Length vs Petal Length\")\n",
    "plt.show()"
   ],
   "metadata": {
    "collapsed": false,
    "ExecuteTime": {
     "end_time": "2024-10-31T11:39:24.916970Z",
     "start_time": "2024-10-31T11:39:24.737246Z"
    }
   },
   "id": "7c37a5b5f175dbb8"
  },
  {
   "cell_type": "code",
   "execution_count": 72,
   "outputs": [],
   "source": [],
   "metadata": {
    "collapsed": false,
    "ExecuteTime": {
     "end_time": "2024-10-31T11:39:24.931185Z",
     "start_time": "2024-10-31T11:39:24.916970Z"
    }
   },
   "id": "347d0580927d96f1"
  }
 ],
 "metadata": {
  "kernelspec": {
   "display_name": "Python 3",
   "language": "python",
   "name": "python3"
  },
  "language_info": {
   "codemirror_mode": {
    "name": "ipython",
    "version": 2
   },
   "file_extension": ".py",
   "mimetype": "text/x-python",
   "name": "python",
   "nbconvert_exporter": "python",
   "pygments_lexer": "ipython2",
   "version": "2.7.6"
  }
 },
 "nbformat": 4,
 "nbformat_minor": 5
}
